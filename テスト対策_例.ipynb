{
 "cells": [
  {
   "cell_type": "code",
   "execution_count": 2,
   "metadata": {},
   "outputs": [
    {
     "name": "stdout",
     "output_type": "stream",
     "text": [
      "【問0】\n",
      "\n",
      "バラバラなものや人を１つの体系のもとにまとめることは？\n",
      "\n",
      "あなたの答え：組織化\n",
      "正解！やったね！！！！\n",
      "+50.0点加算されるよ\n",
      "--------------------------------------------\n",
      "【問1】\n",
      "\n",
      "何らかの目的を達成するために集まった人々を、ある規程のもとで構築した、秩序ある人間関係は？\n",
      "\n",
      "あなたの答え：組織\n",
      "正解！やったね！！！！\n",
      "+50.0点加算されるよ\n",
      "--------------------------------------------\n",
      "きみの最終的な得点は、、、、、100.0でした\n",
      "合格だね　他の科目に注力を注ごう\n"
     ]
    }
   ],
   "source": [
    "result = 0#最終的な得点\n",
    "allPoint = 100#最高得点\n",
    "\n",
    "questions = [\"バラバラなものや人を１つの体系のもとにまとめることは？\", \n",
    "             \"何らかの目的を達成するために集まった人々を、ある規程のもとで構築した、秩序ある人間関係は？\",\n",
    "             \"秩序ある人間関係の構築は，人と人との間での情報の伝達や処理の仕組みであるといえる．これはつまり、(答え)そのものといえる\"]\n",
    "answers = [\"組織化\", \"組織\", \"情報システム\"]\n",
    "\n",
    "point_add = allPoint/len(questions)\n",
    "\n",
    "for i in range(len(questions)):\n",
    "    print(\"【問{}】\".format(i))\n",
    "    print(\"\")\n",
    "    print(questions[i])\n",
    "    print(\"\")\n",
    "    string = input(\"答え：\")\n",
    "    print(\"あなたの答え：{}\".format(string))\n",
    "    if string == answers[i]:\n",
    "        print(\"正解！やったね！！！！\")\n",
    "        print(\"+{}点加算されるよ\".format(point_add))\n",
    "        result += point_add\n",
    "    else:\n",
    "        print(\"残念、不正解！　答えは{}だよーん\".format(answers[i]))\n",
    "    print(\"--------------------------------------------\")\n",
    "\n",
    "print(\"\")\n",
    "print(\"【結果発表】\")\n",
    "print(\"きみの最終的な得点は、、、、、{}でした\".format(result))\n",
    "if result < 60:\n",
    "    print(\"ドンマイ不合格　ここから始めましょう。1から、いいえ0から\")\n",
    "else:\n",
    "    print(\"合格だね　他の科目にも注力を注ごう\")"
   ]
  }
 ],
 "metadata": {
  "kernelspec": {
   "display_name": "Python 3.10.4 64-bit",
   "language": "python",
   "name": "python3"
  },
  "language_info": {
   "codemirror_mode": {
    "name": "ipython",
    "version": 3
   },
   "file_extension": ".py",
   "mimetype": "text/x-python",
   "name": "python",
   "nbconvert_exporter": "python",
   "pygments_lexer": "ipython3",
   "version": "3.10.4"
  },
  "orig_nbformat": 4,
  "vscode": {
   "interpreter": {
    "hash": "df95319d8ce4e1d89f5365ae10992bc1f65da593082b1d264e8f529830ec2f02"
   }
  }
 },
 "nbformat": 4,
 "nbformat_minor": 2
}
